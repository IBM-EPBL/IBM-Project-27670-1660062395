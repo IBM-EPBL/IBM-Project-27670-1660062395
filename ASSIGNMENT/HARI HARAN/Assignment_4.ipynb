{
  "cells": [
    {
      "cell_type": "markdown",
      "metadata": {
        "id": "Tkiosnxuwst6"
      },
      "source": [
        "# ****Spam Message Classification using LSTM****"
      ]
    },
    {
      "cell_type": "markdown",
      "metadata": {
        "id": "OTB0AcpWwst-"
      },
      "source": [
        "### 1.Import the Necessary Libraries"
      ]
    },
    {
      "cell_type": "code",
      "execution_count": null,
      "metadata": {
        "execution": {
          "iopub.execute_input": "2022-10-24T19:10:02.240492Z",
          "iopub.status.busy": "2022-10-24T19:10:02.239872Z",
          "iopub.status.idle": "2022-10-24T19:10:03.096453Z",
          "shell.execute_reply": "2022-10-24T19:10:03.095272Z",
          "shell.execute_reply.started": "2022-10-24T19:10:02.240435Z"
        },
        "id": "M_ofE5ZTwst_"
      },
      "outputs": [],
      "source": [
        "import numpy as np\n",
        "import pandas as pd\n",
        "import seaborn as sns\n",
        "import matplotlib.pyplot as plt\n",
        "%matplotlib inline"
      ]
    },
    {
      "cell_type": "markdown",
      "metadata": {
        "id": "tdUjXLDAwsuB"
      },
      "source": [
        "****2. Reading the spam dataset****"
      ]
    },
    {
      "cell_type": "code",
      "execution_count": null,
      "metadata": {
        "execution": {
          "iopub.execute_input": "2022-10-24T19:10:03.098765Z",
          "iopub.status.busy": "2022-10-24T19:10:03.098112Z",
          "iopub.status.idle": "2022-10-24T19:10:03.176425Z",
          "shell.execute_reply": "2022-10-24T19:10:03.175300Z",
          "shell.execute_reply.started": "2022-10-24T19:10:03.098714Z"
        },
        "id": "1Pmhm-rAwsuB",
        "outputId": "aabcbefb-c4f6-4582-e60e-a43a58fc2382"
      },
      "outputs": [
        {
          "data": {
            "text/html": [
              "<div>\n",
              "<style scoped>\n",
              "    .dataframe tbody tr th:only-of-type {\n",
              "        vertical-align: middle;\n",
              "    }\n",
              "\n",
              "    .dataframe tbody tr th {\n",
              "        vertical-align: top;\n",
              "    }\n",
              "\n",
              "    .dataframe thead th {\n",
              "        text-align: right;\n",
              "    }\n",
              "</style>\n",
              "<table border=\"1\" class=\"dataframe\">\n",
              "  <thead>\n",
              "    <tr style=\"text-align: right;\">\n",
              "      <th></th>\n",
              "      <th>v1</th>\n",
              "      <th>v2</th>\n",
              "      <th>Unnamed: 2</th>\n",
              "      <th>Unnamed: 3</th>\n",
              "      <th>Unnamed: 4</th>\n",
              "    </tr>\n",
              "  </thead>\n",
              "  <tbody>\n",
              "    <tr>\n",
              "      <th>0</th>\n",
              "      <td>ham</td>\n",
              "      <td>Go until jurong point, crazy.. Available only ...</td>\n",
              "      <td>NaN</td>\n",
              "      <td>NaN</td>\n",
              "      <td>NaN</td>\n",
              "    </tr>\n",
              "    <tr>\n",
              "      <th>1</th>\n",
              "      <td>ham</td>\n",
              "      <td>Ok lar... Joking wif u oni...</td>\n",
              "      <td>NaN</td>\n",
              "      <td>NaN</td>\n",
              "      <td>NaN</td>\n",
              "    </tr>\n",
              "    <tr>\n",
              "      <th>2</th>\n",
              "      <td>spam</td>\n",
              "      <td>Free entry in 2 a wkly comp to win FA Cup fina...</td>\n",
              "      <td>NaN</td>\n",
              "      <td>NaN</td>\n",
              "      <td>NaN</td>\n",
              "    </tr>\n",
              "    <tr>\n",
              "      <th>3</th>\n",
              "      <td>ham</td>\n",
              "      <td>U dun say so early hor... U c already then say...</td>\n",
              "      <td>NaN</td>\n",
              "      <td>NaN</td>\n",
              "      <td>NaN</td>\n",
              "    </tr>\n",
              "    <tr>\n",
              "      <th>4</th>\n",
              "      <td>ham</td>\n",
              "      <td>Nah I don't think he goes to usf, he lives aro...</td>\n",
              "      <td>NaN</td>\n",
              "      <td>NaN</td>\n",
              "      <td>NaN</td>\n",
              "    </tr>\n",
              "  </tbody>\n",
              "</table>\n",
              "</div>"
            ],
            "text/plain": [
              "     v1                                                 v2 Unnamed: 2  \\\n",
              "0   ham  Go until jurong point, crazy.. Available only ...        NaN   \n",
              "1   ham                      Ok lar... Joking wif u oni...        NaN   \n",
              "2  spam  Free entry in 2 a wkly comp to win FA Cup fina...        NaN   \n",
              "3   ham  U dun say so early hor... U c already then say...        NaN   \n",
              "4   ham  Nah I don't think he goes to usf, he lives aro...        NaN   \n",
              "\n",
              "  Unnamed: 3 Unnamed: 4  \n",
              "0        NaN        NaN  \n",
              "1        NaN        NaN  \n",
              "2        NaN        NaN  \n",
              "3        NaN        NaN  \n",
              "4        NaN        NaN  "
            ]
          },
          "execution_count": 51,
          "metadata": {},
          "output_type": "execute_result"
        }
      ],
      "source": [
        "data=pd.read_csv(\"spam.csv\",encoding=\"latin\")\n",
        "data.head()"
      ]
    },
    {
      "cell_type": "code",
      "execution_count": null,
      "metadata": {
        "execution": {
          "iopub.execute_input": "2022-10-24T19:10:03.179533Z",
          "iopub.status.busy": "2022-10-24T19:10:03.178761Z",
          "iopub.status.idle": "2022-10-24T19:10:03.187473Z",
          "shell.execute_reply": "2022-10-24T19:10:03.186504Z",
          "shell.execute_reply.started": "2022-10-24T19:10:03.179482Z"
        },
        "id": "oWuSKvFBwsuC",
        "outputId": "f9ac8eb5-68be-4e25-f2a9-31a2e1b1f25f"
      },
      "outputs": [
        {
          "data": {
            "text/plain": [
              "Index(['v1', 'v2', 'Unnamed: 2', 'Unnamed: 3', 'Unnamed: 4'], dtype='object')"
            ]
          },
          "execution_count": 52,
          "metadata": {},
          "output_type": "execute_result"
        }
      ],
      "source": [
        "data.columns"
      ]
    },
    {
      "cell_type": "markdown",
      "metadata": {
        "id": "YNpF6d1owsuD"
      },
      "source": [
        "****3. Drop the unnamed Columns****"
      ]
    },
    {
      "cell_type": "code",
      "execution_count": null,
      "metadata": {
        "execution": {
          "iopub.execute_input": "2022-10-24T19:10:03.190917Z",
          "iopub.status.busy": "2022-10-24T19:10:03.189783Z",
          "iopub.status.idle": "2022-10-24T19:10:03.200280Z",
          "shell.execute_reply": "2022-10-24T19:10:03.199069Z",
          "shell.execute_reply.started": "2022-10-24T19:10:03.190612Z"
        },
        "id": "ckjYkLcRwsuD"
      },
      "outputs": [],
      "source": [
        "data=data.drop(columns=[\"Unnamed: 2\",\"Unnamed: 3\",\"Unnamed: 4\"])"
      ]
    },
    {
      "cell_type": "markdown",
      "metadata": {
        "id": "J29Irci9wsuD"
      },
      "source": [
        "****4. Renaming Column names sensible****"
      ]
    },
    {
      "cell_type": "code",
      "execution_count": null,
      "metadata": {
        "execution": {
          "iopub.execute_input": "2022-10-24T19:10:03.201941Z",
          "iopub.status.busy": "2022-10-24T19:10:03.201564Z",
          "iopub.status.idle": "2022-10-24T19:10:03.214540Z",
          "shell.execute_reply": "2022-10-24T19:10:03.213334Z",
          "shell.execute_reply.started": "2022-10-24T19:10:03.201904Z"
        },
        "id": "2NuoSagRwsuE"
      },
      "outputs": [],
      "source": [
        "data=data.rename(\n",
        "{\n",
        "    \"v1\":\"Category\",\n",
        "    \"v2\":\"Message\"\n",
        "},\n",
        "    axis=1\n",
        ")"
      ]
    },
    {
      "cell_type": "code",
      "execution_count": null,
      "metadata": {
        "execution": {
          "iopub.execute_input": "2022-10-24T19:10:03.219672Z",
          "iopub.status.busy": "2022-10-24T19:10:03.218668Z",
          "iopub.status.idle": "2022-10-24T19:10:03.233081Z",
          "shell.execute_reply": "2022-10-24T19:10:03.231569Z",
          "shell.execute_reply.started": "2022-10-24T19:10:03.219616Z"
        },
        "id": "_VU6c9g6wsuE",
        "outputId": "6eabba73-de5d-4237-80a6-fb3f1e8646d8"
      },
      "outputs": [
        {
          "data": {
            "text/html": [
              "<div>\n",
              "<style scoped>\n",
              "    .dataframe tbody tr th:only-of-type {\n",
              "        vertical-align: middle;\n",
              "    }\n",
              "\n",
              "    .dataframe tbody tr th {\n",
              "        vertical-align: top;\n",
              "    }\n",
              "\n",
              "    .dataframe thead th {\n",
              "        text-align: right;\n",
              "    }\n",
              "</style>\n",
              "<table border=\"1\" class=\"dataframe\">\n",
              "  <thead>\n",
              "    <tr style=\"text-align: right;\">\n",
              "      <th></th>\n",
              "      <th>Category</th>\n",
              "      <th>Message</th>\n",
              "    </tr>\n",
              "  </thead>\n",
              "  <tbody>\n",
              "    <tr>\n",
              "      <th>0</th>\n",
              "      <td>ham</td>\n",
              "      <td>Go until jurong point, crazy.. Available only ...</td>\n",
              "    </tr>\n",
              "    <tr>\n",
              "      <th>1</th>\n",
              "      <td>ham</td>\n",
              "      <td>Ok lar... Joking wif u oni...</td>\n",
              "    </tr>\n",
              "    <tr>\n",
              "      <th>2</th>\n",
              "      <td>spam</td>\n",
              "      <td>Free entry in 2 a wkly comp to win FA Cup fina...</td>\n",
              "    </tr>\n",
              "    <tr>\n",
              "      <th>3</th>\n",
              "      <td>ham</td>\n",
              "      <td>U dun say so early hor... U c already then say...</td>\n",
              "    </tr>\n",
              "    <tr>\n",
              "      <th>4</th>\n",
              "      <td>ham</td>\n",
              "      <td>Nah I don't think he goes to usf, he lives aro...</td>\n",
              "    </tr>\n",
              "  </tbody>\n",
              "</table>\n",
              "</div>"
            ],
            "text/plain": [
              "  Category                                            Message\n",
              "0      ham  Go until jurong point, crazy.. Available only ...\n",
              "1      ham                      Ok lar... Joking wif u oni...\n",
              "2     spam  Free entry in 2 a wkly comp to win FA Cup fina...\n",
              "3      ham  U dun say so early hor... U c already then say...\n",
              "4      ham  Nah I don't think he goes to usf, he lives aro..."
            ]
          },
          "execution_count": 55,
          "metadata": {},
          "output_type": "execute_result"
        }
      ],
      "source": [
        "data.head()"
      ]
    },
    {
      "cell_type": "markdown",
      "metadata": {
        "id": "yJpMV188wsuE"
      },
      "source": [
        "****5. Check for null values in dataset****"
      ]
    },
    {
      "cell_type": "code",
      "execution_count": null,
      "metadata": {
        "execution": {
          "iopub.execute_input": "2022-10-24T19:10:03.236080Z",
          "iopub.status.busy": "2022-10-24T19:10:03.235631Z",
          "iopub.status.idle": "2022-10-24T19:10:03.249179Z",
          "shell.execute_reply": "2022-10-24T19:10:03.248321Z",
          "shell.execute_reply.started": "2022-10-24T19:10:03.236033Z"
        },
        "id": "cF9u0tHWwsuF",
        "outputId": "469e4390-2b67-40fd-bc65-bffba08bf20d"
      },
      "outputs": [
        {
          "data": {
            "text/plain": [
              "Category    0\n",
              "Message     0\n",
              "dtype: int64"
            ]
          },
          "execution_count": 56,
          "metadata": {},
          "output_type": "execute_result"
        }
      ],
      "source": [
        "data.isnull().sum()"
      ]
    },
    {
      "cell_type": "code",
      "execution_count": null,
      "metadata": {
        "execution": {
          "iopub.execute_input": "2022-10-24T19:10:03.253279Z",
          "iopub.status.busy": "2022-10-24T19:10:03.252620Z",
          "iopub.status.idle": "2022-10-24T19:10:03.292918Z",
          "shell.execute_reply": "2022-10-24T19:10:03.291720Z",
          "shell.execute_reply.started": "2022-10-24T19:10:03.253229Z"
        },
        "id": "inf6zoGhwsuF",
        "outputId": "1960d636-87cf-4a39-8e21-12c940e2c53b"
      },
      "outputs": [
        {
          "name": "stdout",
          "output_type": "stream",
          "text": [
            "<class 'pandas.core.frame.DataFrame'>\n",
            "RangeIndex: 5572 entries, 0 to 5571\n",
            "Data columns (total 2 columns):\n",
            " #   Column    Non-Null Count  Dtype \n",
            "---  ------    --------------  ----- \n",
            " 0   Category  5572 non-null   object\n",
            " 1   Message   5572 non-null   object\n",
            "dtypes: object(2)\n",
            "memory usage: 87.2+ KB\n"
          ]
        }
      ],
      "source": [
        "data.info()"
      ]
    },
    {
      "cell_type": "markdown",
      "metadata": {
        "id": "-7ot7nOYwsuF"
      },
      "source": [
        "****6.Creating a new column for Message Lengths****"
      ]
    },
    {
      "cell_type": "code",
      "execution_count": null,
      "metadata": {
        "execution": {
          "iopub.execute_input": "2022-10-24T19:10:03.296745Z",
          "iopub.status.busy": "2022-10-24T19:10:03.295879Z",
          "iopub.status.idle": "2022-10-24T19:10:03.306522Z",
          "shell.execute_reply": "2022-10-24T19:10:03.305269Z",
          "shell.execute_reply.started": "2022-10-24T19:10:03.296691Z"
        },
        "id": "B2xOvmTgwsuG"
      },
      "outputs": [],
      "source": [
        "data[\"Message Length\"]=data[\"Message\"].apply(len)"
      ]
    },
    {
      "cell_type": "markdown",
      "metadata": {
        "id": "ErkzYGpYwsuG"
      },
      "source": [
        "****7. Histogram plotting of Message Lengths of Spam and Non-spam messages****"
      ]
    },
    {
      "cell_type": "code",
      "execution_count": null,
      "metadata": {
        "execution": {
          "iopub.execute_input": "2022-10-24T19:10:03.308832Z",
          "iopub.status.busy": "2022-10-24T19:10:03.308175Z",
          "iopub.status.idle": "2022-10-24T19:10:04.060142Z",
          "shell.execute_reply": "2022-10-24T19:10:04.059065Z",
          "shell.execute_reply.started": "2022-10-24T19:10:03.308780Z"
        },
        "id": "UTVBUBpZwsuG",
        "outputId": "e53e3c6d-f96e-4e1b-aa44-1cb807900b63"
      },
      "outputs": [
        {
          "data": {
            "image/png": "[encoded data removed]",
            "text/plain": [
              "<Figure size 864x576 with 1 Axes>"
            ]
          },
          "metadata": {
            "needs_background": "light"
          },
          "output_type": "display_data"
        }
      ],
      "source": [
        "fig=plt.figure(figsize=(12,8))\n",
        "sns.histplot(\n",
        "    x=data[\"Message Length\"],\n",
        "    hue=data[\"Category\"]\n",
        ")\n",
        "plt.title(\"ham and spam message length comparision\")\n",
        "plt.show()"
      ]
    },
    {
      "cell_type": "code",
      "execution_count": null,
      "metadata": {
        "execution": {
          "iopub.execute_input": "2022-10-24T19:10:04.062304Z",
          "iopub.status.busy": "2022-10-24T19:10:04.061689Z",
          "iopub.status.idle": "2022-10-24T19:10:04.083748Z",
          "shell.execute_reply": "2022-10-24T19:10:04.082850Z",
          "shell.execute_reply.started": "2022-10-24T19:10:04.062255Z"
        },
        "id": "JRmp17rOwsuG",
        "outputId": "2727e3cc-c958-40e0-b8aa-37d82aaeffe4"
      },
      "outputs": [
        {
          "name": "stdout",
          "output_type": "stream",
          "text": [
            "Ham Messege Length Description:\n",
            " count    4825.000000\n",
            "mean       71.023627\n",
            "std        58.016023\n",
            "min         2.000000\n",
            "25%        33.000000\n",
            "50%        52.000000\n",
            "75%        92.000000\n",
            "max       910.000000\n",
            "Name: Message Length, dtype: float64\n",
            "Spam Message Length Description:\n",
            " count    747.000000\n",
            "mean     138.866131\n",
            "std       29.183082\n",
            "min       13.000000\n",
            "25%      132.500000\n",
            "50%      149.000000\n",
            "75%      157.000000\n",
            "max      224.000000\n",
            "Name: Message Length, dtype: float64\n"
          ]
        }
      ],
      "source": [
        "ham_des=data[data[\"Category\"]==\"ham\"][\"Message Length\"].describe()\n",
        "spam_des=data[data[\"Category\"]==\"spam\"][\"Message Length\"].describe()\n",
        "\n",
        "print(\"Ham Messege Length Description:\\n\",ham_des)\n",
        "print(\"Spam Message Length Description:\\n\",spam_des)"
      ]
    },
    {
      "cell_type": "code",
      "execution_count": null,
      "metadata": {
        "execution": {
          "iopub.execute_input": "2022-10-24T19:10:04.085701Z",
          "iopub.status.busy": "2022-10-24T19:10:04.085185Z",
          "iopub.status.idle": "2022-10-24T19:10:04.116444Z",
          "shell.execute_reply": "2022-10-24T19:10:04.115239Z",
          "shell.execute_reply.started": "2022-10-24T19:10:04.085661Z"
        },
        "id": "5vnSdTlbwsuH",
        "outputId": "ccc843a6-80ad-4fcb-ff98-66425fd5366a"
      },
      "outputs": [
        {
          "data": {
            "text/html": [
              "<div>\n",
              "<style scoped>\n",
              "    .dataframe tbody tr th:only-of-type {\n",
              "        vertical-align: middle;\n",
              "    }\n",
              "\n",
              "    .dataframe tbody tr th {\n",
              "        vertical-align: top;\n",
              "    }\n",
              "\n",
              "    .dataframe thead th {\n",
              "        text-align: right;\n",
              "    }\n",
              "</style>\n",
              "<table border=\"1\" class=\"dataframe\">\n",
              "  <thead>\n",
              "    <tr style=\"text-align: right;\">\n",
              "      <th></th>\n",
              "      <th>Category</th>\n",
              "      <th>Message</th>\n",
              "      <th>Message Length</th>\n",
              "    </tr>\n",
              "  </thead>\n",
              "  <tbody>\n",
              "    <tr>\n",
              "      <th>count</th>\n",
              "      <td>5572</td>\n",
              "      <td>5572</td>\n",
              "      <td>5572.000000</td>\n",
              "    </tr>\n",
              "    <tr>\n",
              "      <th>unique</th>\n",
              "      <td>2</td>\n",
              "      <td>5169</td>\n",
              "      <td>NaN</td>\n",
              "    </tr>\n",
              "    <tr>\n",
              "      <th>top</th>\n",
              "      <td>ham</td>\n",
              "      <td>Sorry, I'll call later</td>\n",
              "      <td>NaN</td>\n",
              "    </tr>\n",
              "    <tr>\n",
              "      <th>freq</th>\n",
              "      <td>4825</td>\n",
              "      <td>30</td>\n",
              "      <td>NaN</td>\n",
              "    </tr>\n",
              "    <tr>\n",
              "      <th>mean</th>\n",
              "      <td>NaN</td>\n",
              "      <td>NaN</td>\n",
              "      <td>80.118808</td>\n",
              "    </tr>\n",
              "    <tr>\n",
              "      <th>std</th>\n",
              "      <td>NaN</td>\n",
              "      <td>NaN</td>\n",
              "      <td>59.690841</td>\n",
              "    </tr>\n",
              "    <tr>\n",
              "      <th>min</th>\n",
              "      <td>NaN</td>\n",
              "      <td>NaN</td>\n",
              "      <td>2.000000</td>\n",
              "    </tr>\n",
              "    <tr>\n",
              "      <th>25%</th>\n",
              "      <td>NaN</td>\n",
              "      <td>NaN</td>\n",
              "      <td>36.000000</td>\n",
              "    </tr>\n",
              "    <tr>\n",
              "      <th>50%</th>\n",
              "      <td>NaN</td>\n",
              "      <td>NaN</td>\n",
              "      <td>61.000000</td>\n",
              "    </tr>\n",
              "    <tr>\n",
              "      <th>75%</th>\n",
              "      <td>NaN</td>\n",
              "      <td>NaN</td>\n",
              "      <td>121.000000</td>\n",
              "    </tr>\n",
              "    <tr>\n",
              "      <th>max</th>\n",
              "      <td>NaN</td>\n",
              "      <td>NaN</td>\n",
              "      <td>910.000000</td>\n",
              "    </tr>\n",
              "  </tbody>\n",
              "</table>\n",
              "</div>"
            ],
            "text/plain": [
              "       Category                 Message  Message Length\n",
              "count      5572                    5572     5572.000000\n",
              "unique        2                    5169             NaN\n",
              "top         ham  Sorry, I'll call later             NaN\n",
              "freq       4825                      30             NaN\n",
              "mean        NaN                     NaN       80.118808\n",
              "std         NaN                     NaN       59.690841\n",
              "min         NaN                     NaN        2.000000\n",
              "25%         NaN                     NaN       36.000000\n",
              "50%         NaN                     NaN       61.000000\n",
              "75%         NaN                     NaN      121.000000\n",
              "max         NaN                     NaN      910.000000"
            ]
          },
          "execution_count": 61,
          "metadata": {},
          "output_type": "execute_result"
        }
      ],
      "source": [
        "data.describe(include=\"all\")"
      ]
    },
    {
      "cell_type": "markdown",
      "metadata": {
        "id": "d5NqsV_-wsuH"
      },
      "source": [
        "****8. Visualizing count of messages of Spam and Non Spam****"
      ]
    },
    {
      "cell_type": "code",
      "execution_count": null,
      "metadata": {
        "execution": {
          "iopub.execute_input": "2022-10-24T19:10:04.118721Z",
          "iopub.status.busy": "2022-10-24T19:10:04.118065Z",
          "iopub.status.idle": "2022-10-24T19:10:04.130611Z",
          "shell.execute_reply": "2022-10-24T19:10:04.129145Z",
          "shell.execute_reply.started": "2022-10-24T19:10:04.118669Z"
        },
        "id": "TnekYHiUwsuH",
        "outputId": "658a483e-6660-4ff2-df21-9a13e60b0486"
      },
      "outputs": [
        {
          "data": {
            "text/plain": [
              "ham     4825\n",
              "spam     747\n",
              "Name: Category, dtype: int64"
            ]
          },
          "execution_count": 62,
          "metadata": {},
          "output_type": "execute_result"
        }
      ],
      "source": [
        "data[\"Category\"].value_counts()"
      ]
    },
    {
      "cell_type": "code",
      "execution_count": null,
      "metadata": {
        "execution": {
          "iopub.execute_input": "2022-10-24T19:10:04.134267Z",
          "iopub.status.busy": "2022-10-24T19:10:04.133436Z",
          "iopub.status.idle": "2022-10-24T19:10:04.279114Z",
          "shell.execute_reply": "2022-10-24T19:10:04.277884Z",
          "shell.execute_reply.started": "2022-10-24T19:10:04.134214Z"
        },
        "id": "L2bKfl1DwsuI",
        "outputId": "eab825f8-a48e-4907-b19f-bde1ab8302cf"
      },
      "outputs": [
        {
          "data": {
            "image/png": "[encoded data removed]",
            "text/plain": [
              "<Figure size 432x288 with 1 Axes>"
            ]
          },
          "metadata": {
            "needs_background": "light"
          },
          "output_type": "display_data"
        }
      ],
      "source": [
        "sns.countplot(\n",
        "    data=data,\n",
        "    x=\"Category\"\n",
        ")\n",
        "plt.title(\"ham vs spam\")\n",
        "plt.show()"
      ]
    },
    {
      "cell_type": "code",
      "execution_count": null,
      "metadata": {
        "execution": {
          "iopub.execute_input": "2022-10-24T19:10:04.281391Z",
          "iopub.status.busy": "2022-10-24T19:10:04.280745Z",
          "iopub.status.idle": "2022-10-24T19:10:04.299266Z",
          "shell.execute_reply": "2022-10-24T19:10:04.297746Z",
          "shell.execute_reply.started": "2022-10-24T19:10:04.281337Z"
        },
        "id": "TZS549ICwsuI",
        "outputId": "34fe8baf-f9c8-42c6-c2d7-a70fc2616365"
      },
      "outputs": [
        {
          "name": "stdout",
          "output_type": "stream",
          "text": [
            "Ham contains:86.59% of total data.\n",
            "Spam contains:13.41% of total data.\n"
          ]
        }
      ],
      "source": [
        "ham_count=data[\"Category\"].value_counts()[0]\n",
        "spam_count=data[\"Category\"].value_counts()[1]\n",
        "\n",
        "total_count=data.shape[0]\n",
        "\n",
        "print(\"Ham contains:{:.2f}% of total data.\".format(ham_count/total_count*100))\n",
        "print(\"Spam contains:{:.2f}% of total data.\".format(spam_count/total_count*100))"
      ]
    },
    {
      "cell_type": "markdown",
      "metadata": {
        "id": "YmooVKQIwsuJ"
      },
      "source": [
        "****9. Undersampling to Genralize Model and Balance Spam and Ham quantities in dataset****"
      ]
    },
    {
      "cell_type": "code",
      "execution_count": null,
      "metadata": {
        "execution": {
          "iopub.execute_input": "2022-10-24T19:10:04.302281Z",
          "iopub.status.busy": "2022-10-24T19:10:04.301158Z",
          "iopub.status.idle": "2022-10-24T19:10:04.321490Z",
          "shell.execute_reply": "2022-10-24T19:10:04.320190Z",
          "shell.execute_reply.started": "2022-10-24T19:10:04.302228Z"
        },
        "id": "E_QSk9-swsuJ"
      },
      "outputs": [],
      "source": [
        "minority_len=len(data[data[\"Category\"]==\"spam\"])\n",
        "majority_len=len(data[data[\"Category\"]==\"ham\"])\n",
        "minority_indices=data[data[\"Category\"]==\"spam\"].index\n",
        "majority_indices=data[data[\"Category\"]==\"ham\"].index\n",
        "random_majority_indices=np.random.choice(\n",
        "    majority_indices,\n",
        "    size=minority_len,\n",
        "    replace=False\n",
        ")\n",
        "\n",
        "undersampled_indices=np.concatenate([minority_indices,random_majority_indices])\n",
        "df=data.loc[undersampled_indices]\n",
        "df=df.sample(frac=1)\n",
        "df=df.reset_index()\n",
        "df=df.drop(\n",
        "    columns=[\"index\"],\n",
        ")\n"
      ]
    },
    {
      "cell_type": "code",
      "execution_count": null,
      "metadata": {
        "execution": {
          "iopub.execute_input": "2022-10-24T19:10:04.326524Z",
          "iopub.status.busy": "2022-10-24T19:10:04.325469Z",
          "iopub.status.idle": "2022-10-24T19:10:04.335046Z",
          "shell.execute_reply": "2022-10-24T19:10:04.333177Z",
          "shell.execute_reply.started": "2022-10-24T19:10:04.326458Z"
        },
        "id": "xoqaafyVwsuK",
        "outputId": "e25dd7f1-5bcd-4c2f-e3cf-c494fccce95e"
      },
      "outputs": [
        {
          "data": {
            "text/plain": [
              "(1494, 3)"
            ]
          },
          "execution_count": 66,
          "metadata": {},
          "output_type": "execute_result"
        }
      ],
      "source": [
        "df.shape"
      ]
    },
    {
      "cell_type": "code",
      "execution_count": null,
      "metadata": {
        "execution": {
          "iopub.execute_input": "2022-10-24T19:10:04.337416Z",
          "iopub.status.busy": "2022-10-24T19:10:04.336861Z",
          "iopub.status.idle": "2022-10-24T19:10:04.349938Z",
          "shell.execute_reply": "2022-10-24T19:10:04.348682Z",
          "shell.execute_reply.started": "2022-10-24T19:10:04.337364Z"
        },
        "id": "FSFaCFuCwsuK",
        "outputId": "d1068863-24fb-4541-ad85-0b3ce29b5e54"
      },
      "outputs": [
        {
          "data": {
            "text/plain": [
              "spam    747\n",
              "ham     747\n",
              "Name: Category, dtype: int64"
            ]
          },
          "execution_count": 67,
          "metadata": {},
          "output_type": "execute_result"
        }
      ],
      "source": [
        "df[\"Category\"].value_counts()"
      ]
    },
    {
      "cell_type": "code",
      "execution_count": null,
      "metadata": {
        "execution": {
          "iopub.execute_input": "2022-10-24T19:10:04.352407Z",
          "iopub.status.busy": "2022-10-24T19:10:04.351795Z",
          "iopub.status.idle": "2022-10-24T19:10:04.517748Z",
          "shell.execute_reply": "2022-10-24T19:10:04.516618Z",
          "shell.execute_reply.started": "2022-10-24T19:10:04.352361Z"
        },
        "id": "FmOeybGrwsuL",
        "outputId": "597facf1-17ad-490d-984d-ff83a33d9682"
      },
      "outputs": [
        {
          "data": {
            "image/png": "[encoded data removed]",
            "text/plain": [
              "<Figure size 432x288 with 1 Axes>"
            ]
          },
          "metadata": {
            "needs_background": "light"
          },
          "output_type": "display_data"
        }
      ],
      "source": [
        "sns.countplot(\n",
        "    data=df,\n",
        "    x=\"Category\"\n",
        ")\n",
        "plt.title(\"ham vs spam\")\n",
        "plt.show()"
      ]
    },
    {
      "cell_type": "code",
      "execution_count": null,
      "metadata": {
        "execution": {
          "iopub.execute_input": "2022-10-24T19:10:04.519904Z",
          "iopub.status.busy": "2022-10-24T19:10:04.519296Z",
          "iopub.status.idle": "2022-10-24T19:10:04.533858Z",
          "shell.execute_reply": "2022-10-24T19:10:04.532971Z",
          "shell.execute_reply.started": "2022-10-24T19:10:04.519856Z"
        },
        "id": "6heqmK83wsuL",
        "outputId": "ed236a9f-c33f-4c24-d244-b10917f2182d"
      },
      "outputs": [
        {
          "data": {
            "text/html": [
              "<div>\n",
              "<style scoped>\n",
              "    .dataframe tbody tr th:only-of-type {\n",
              "        vertical-align: middle;\n",
              "    }\n",
              "\n",
              "    .dataframe tbody tr th {\n",
              "        vertical-align: top;\n",
              "    }\n",
              "\n",
              "    .dataframe thead th {\n",
              "        text-align: right;\n",
              "    }\n",
              "</style>\n",
              "<table border=\"1\" class=\"dataframe\">\n",
              "  <thead>\n",
              "    <tr style=\"text-align: right;\">\n",
              "      <th></th>\n",
              "      <th>Category</th>\n",
              "      <th>Message</th>\n",
              "      <th>Message Length</th>\n",
              "    </tr>\n",
              "  </thead>\n",
              "  <tbody>\n",
              "    <tr>\n",
              "      <th>0</th>\n",
              "      <td>spam</td>\n",
              "      <td>YOU VE WON! Your 4* Costa Del Sol Holiday or å...</td>\n",
              "      <td>164</td>\n",
              "    </tr>\n",
              "    <tr>\n",
              "      <th>1</th>\n",
              "      <td>spam</td>\n",
              "      <td>Fantasy Football is back on your TV. Go to Sky...</td>\n",
              "      <td>162</td>\n",
              "    </tr>\n",
              "    <tr>\n",
              "      <th>2</th>\n",
              "      <td>ham</td>\n",
              "      <td>Ffffffffff. Alright no way I can meet up with ...</td>\n",
              "      <td>57</td>\n",
              "    </tr>\n",
              "    <tr>\n",
              "      <th>3</th>\n",
              "      <td>ham</td>\n",
              "      <td>I can ask around but there's not a lot in term...</td>\n",
              "      <td>63</td>\n",
              "    </tr>\n",
              "    <tr>\n",
              "      <th>4</th>\n",
              "      <td>spam</td>\n",
              "      <td>Last chance 2 claim ur å£150 worth of discount...</td>\n",
              "      <td>162</td>\n",
              "    </tr>\n",
              "  </tbody>\n",
              "</table>\n",
              "</div>"
            ],
            "text/plain": [
              "  Category                                            Message  Message Length\n",
              "0     spam  YOU VE WON! Your 4* Costa Del Sol Holiday or å...             164\n",
              "1     spam  Fantasy Football is back on your TV. Go to Sky...             162\n",
              "2      ham  Ffffffffff. Alright no way I can meet up with ...              57\n",
              "3      ham  I can ask around but there's not a lot in term...              63\n",
              "4     spam  Last chance 2 claim ur å£150 worth of discount...             162"
            ]
          },
          "execution_count": 69,
          "metadata": {},
          "output_type": "execute_result"
        }
      ],
      "source": [
        "df.head()"
      ]
    },
    {
      "cell_type": "markdown",
      "metadata": {
        "id": "FYbCJ21ZwsuL"
      },
      "source": [
        "****10. Binary Encoding of Spam and Ham ****"
      ]
    },
    {
      "cell_type": "code",
      "execution_count": null,
      "metadata": {
        "execution": {
          "iopub.execute_input": "2022-10-24T19:10:04.535903Z",
          "iopub.status.busy": "2022-10-24T19:10:04.535464Z",
          "iopub.status.idle": "2022-10-24T19:10:04.547404Z",
          "shell.execute_reply": "2022-10-24T19:10:04.546160Z",
          "shell.execute_reply.started": "2022-10-24T19:10:04.535855Z"
        },
        "id": "NaQKW4WowsuM"
      },
      "outputs": [],
      "source": [
        "df[\"Label\"]=df[\"Category\"].map(\n",
        "    {\n",
        "        \"ham\":0,\n",
        "        \"spam\":1\n",
        "    }\n",
        ")"
      ]
    },
    {
      "cell_type": "code",
      "execution_count": null,
      "metadata": {
        "execution": {
          "iopub.execute_input": "2022-10-24T19:10:04.549942Z",
          "iopub.status.busy": "2022-10-24T19:10:04.549181Z",
          "iopub.status.idle": "2022-10-24T19:10:04.569516Z",
          "shell.execute_reply": "2022-10-24T19:10:04.567227Z",
          "shell.execute_reply.started": "2022-10-24T19:10:04.549885Z"
        },
        "id": "FkPVQvR5wsuM",
        "outputId": "27efc787-e863-407f-be2b-231ee1b6d716"
      },
      "outputs": [
        {
          "data": {
            "text/html": [
              "<div>\n",
              "<style scoped>\n",
              "    .dataframe tbody tr th:only-of-type {\n",
              "        vertical-align: middle;\n",
              "    }\n",
              "\n",
              "    .dataframe tbody tr th {\n",
              "        vertical-align: top;\n",
              "    }\n",
              "\n",
              "    .dataframe thead th {\n",
              "        text-align: right;\n",
              "    }\n",
              "</style>\n",
              "<table border=\"1\" class=\"dataframe\">\n",
              "  <thead>\n",
              "    <tr style=\"text-align: right;\">\n",
              "      <th></th>\n",
              "      <th>Category</th>\n",
              "      <th>Message</th>\n",
              "      <th>Message Length</th>\n",
              "      <th>Label</th>\n",
              "    </tr>\n",
              "  </thead>\n",
              "  <tbody>\n",
              "    <tr>\n",
              "      <th>0</th>\n",
              "      <td>spam</td>\n",
              "      <td>YOU VE WON! Your 4* Costa Del Sol Holiday or å...</td>\n",
              "      <td>164</td>\n",
              "      <td>1</td>\n",
              "    </tr>\n",
              "    <tr>\n",
              "      <th>1</th>\n",
              "      <td>spam</td>\n",
              "      <td>Fantasy Football is back on your TV. Go to Sky...</td>\n",
              "      <td>162</td>\n",
              "      <td>1</td>\n",
              "    </tr>\n",
              "    <tr>\n",
              "      <th>2</th>\n",
              "      <td>ham</td>\n",
              "      <td>Ffffffffff. Alright no way I can meet up with ...</td>\n",
              "      <td>57</td>\n",
              "      <td>0</td>\n",
              "    </tr>\n",
              "    <tr>\n",
              "      <th>3</th>\n",
              "      <td>ham</td>\n",
              "      <td>I can ask around but there's not a lot in term...</td>\n",
              "      <td>63</td>\n",
              "      <td>0</td>\n",
              "    </tr>\n",
              "    <tr>\n",
              "      <th>4</th>\n",
              "      <td>spam</td>\n",
              "      <td>Last chance 2 claim ur å£150 worth of discount...</td>\n",
              "      <td>162</td>\n",
              "      <td>1</td>\n",
              "    </tr>\n",
              "  </tbody>\n",
              "</table>\n",
              "</div>"
            ],
            "text/plain": [
              "  Category                                            Message  Message Length  \\\n",
              "0     spam  YOU VE WON! Your 4* Costa Del Sol Holiday or å...             164   \n",
              "1     spam  Fantasy Football is back on your TV. Go to Sky...             162   \n",
              "2      ham  Ffffffffff. Alright no way I can meet up with ...              57   \n",
              "3      ham  I can ask around but there's not a lot in term...              63   \n",
              "4     spam  Last chance 2 claim ur å£150 worth of discount...             162   \n",
              "\n",
              "   Label  \n",
              "0      1  \n",
              "1      1  \n",
              "2      0  \n",
              "3      0  \n",
              "4      1  "
            ]
          },
          "execution_count": 71,
          "metadata": {},
          "output_type": "execute_result"
        }
      ],
      "source": [
        "df.head()"
      ]
    },
    {
      "cell_type": "code",
      "execution_count": null,
      "metadata": {
        "execution": {
          "iopub.execute_input": "2022-10-24T19:10:04.592013Z",
          "iopub.status.busy": "2022-10-24T19:10:04.591608Z",
          "iopub.status.idle": "2022-10-24T19:10:05.468505Z",
          "shell.execute_reply": "2022-10-24T19:10:05.467421Z",
          "shell.execute_reply.started": "2022-10-24T19:10:04.591972Z"
        },
        "id": "9Xq6eYQ6wsuM"
      },
      "outputs": [],
      "source": [
        "import re\n",
        "import nltk\n",
        "from nltk.corpus import stopwords\n",
        "from nltk.stem import PorterStemmer\n",
        "\n",
        "stemmer=PorterStemmer()"
      ]
    },
    {
      "cell_type": "code",
      "execution_count": null,
      "metadata": {
        "execution": {
          "iopub.execute_input": "2022-10-24T19:10:05.471629Z",
          "iopub.status.busy": "2022-10-24T19:10:05.471181Z",
          "iopub.status.idle": "2022-10-24T19:10:10.529923Z",
          "shell.execute_reply": "2022-10-24T19:10:10.529054Z",
          "shell.execute_reply.started": "2022-10-24T19:10:05.471582Z"
        },
        "id": "KILWSYzFwsuN"
      },
      "outputs": [],
      "source": [
        "corpus=[]\n",
        "for message in df[\"Message\"]:\n",
        "    message=re.sub(\"[^a-zA-Z]\",\" \",message)\n",
        "    message=message.lower()\n",
        "    message=message.split()\n",
        "    message=[stemmer.stem(words)\n",
        "            for words in message\n",
        "             if words not in set(stopwords.words(\"english\"))\n",
        "            ]\n",
        "    message=\" \".join(message)\n",
        "    corpus.append(message)"
      ]
    },
    {
      "cell_type": "markdown",
      "metadata": {
        "id": "k8WmquJ1wsuN"
      },
      "source": [
        "****12. Perform One Hot on Corpus****"
      ]
    },
    {
      "cell_type": "code",
      "execution_count": null,
      "metadata": {
        "execution": {
          "iopub.execute_input": "2022-10-24T19:10:10.531883Z",
          "iopub.status.busy": "2022-10-24T19:10:10.531300Z",
          "iopub.status.idle": "2022-10-24T19:10:16.532983Z",
          "shell.execute_reply": "2022-10-24T19:10:16.531832Z",
          "shell.execute_reply.started": "2022-10-24T19:10:10.531836Z"
        },
        "id": "5Kmrmqg4wsuN"
      },
      "outputs": [],
      "source": [
        "from tensorflow.keras.preprocessing.text import one_hot\n",
        "vocab_size=10000\n",
        "\n",
        "oneHot_doc=[one_hot(words,n=vocab_size)\n",
        "           for words in corpus\n",
        "           ]"
      ]
    },
    {
      "cell_type": "code",
      "execution_count": null,
      "metadata": {
        "execution": {
          "iopub.execute_input": "2022-10-24T19:10:16.535794Z",
          "iopub.status.busy": "2022-10-24T19:10:16.535185Z",
          "iopub.status.idle": "2022-10-24T19:10:16.552102Z",
          "shell.execute_reply": "2022-10-24T19:10:16.550839Z",
          "shell.execute_reply.started": "2022-10-24T19:10:16.535745Z"
        },
        "id": "MQBtbwFQwsuO",
        "outputId": "83a8e76f-2382-4f2e-c041-9eba5158bb3d"
      },
      "outputs": [
        {
          "data": {
            "text/plain": [
              "count    1494.000000\n",
              "mean      104.884203\n",
              "std        55.292784\n",
              "min         4.000000\n",
              "25%        51.000000\n",
              "50%       119.500000\n",
              "75%       153.000000\n",
              "max       632.000000\n",
              "Name: Message Length, dtype: float64"
            ]
          },
          "execution_count": 75,
          "metadata": {},
          "output_type": "execute_result"
        }
      ],
      "source": [
        "df[\"Message Length\"].describe()"
      ]
    },
    {
      "cell_type": "code",
      "execution_count": null,
      "metadata": {
        "execution": {
          "iopub.execute_input": "2022-10-24T19:10:16.554125Z",
          "iopub.status.busy": "2022-10-24T19:10:16.553602Z",
          "iopub.status.idle": "2022-10-24T19:10:16.832915Z",
          "shell.execute_reply": "2022-10-24T19:10:16.832067Z",
          "shell.execute_reply.started": "2022-10-24T19:10:16.554067Z"
        },
        "id": "Vz-6emdmwsuO",
        "outputId": "200feadf-3c28-4164-e0ba-4ef6ed782e6a"
      },
      "outputs": [
        {
          "data": {
            "image/png": "[encoded data removed]",
            "text/plain": [
              "<Figure size 864x576 with 1 Axes>"
            ]
          },
          "metadata": {
            "needs_background": "light"
          },
          "output_type": "display_data"
        }
      ],
      "source": [
        "fig=plt.figure(figsize=(12,8))\n",
        "sns.kdeplot(\n",
        "    x=df[\"Message Length\"],\n",
        "    hue=df[\"Category\"]\n",
        ")\n",
        "plt.title(\"ham & spam messege length comparision\")\n",
        "plt.show()"
      ]
    },
    {
      "cell_type": "code",
      "execution_count": null,
      "metadata": {
        "execution": {
          "iopub.execute_input": "2022-10-24T19:10:16.835387Z",
          "iopub.status.busy": "2022-10-24T19:10:16.834627Z",
          "iopub.status.idle": "2022-10-24T19:10:16.850505Z",
          "shell.execute_reply": "2022-10-24T19:10:16.849664Z",
          "shell.execute_reply.started": "2022-10-24T19:10:16.835340Z"
        },
        "id": "lzEkG-zhwsuO"
      },
      "outputs": [],
      "source": [
        "from tensorflow.keras.preprocessing.sequence import pad_sequences\n",
        "sentence_len=200\n",
        "embedded_doc=pad_sequences(\n",
        "    oneHot_doc,\n",
        "    maxlen=sentence_len,\n",
        "    padding=\"pre\"\n",
        ")"
      ]
    },
    {
      "cell_type": "code",
      "execution_count": null,
      "metadata": {
        "execution": {
          "iopub.execute_input": "2022-10-24T19:10:16.852771Z",
          "iopub.status.busy": "2022-10-24T19:10:16.852065Z",
          "iopub.status.idle": "2022-10-24T19:10:16.858781Z",
          "shell.execute_reply": "2022-10-24T19:10:16.858029Z",
          "shell.execute_reply.started": "2022-10-24T19:10:16.852725Z"
        },
        "id": "2M8o7aEywsuO"
      },
      "outputs": [],
      "source": [
        "extract_features=pd.DataFrame(\n",
        "    data=embedded_doc\n",
        ")\n",
        "target=df[\"Label\"]"
      ]
    },
    {
      "cell_type": "code",
      "execution_count": null,
      "metadata": {
        "execution": {
          "iopub.execute_input": "2022-10-24T19:10:16.861330Z",
          "iopub.status.busy": "2022-10-24T19:10:16.860452Z",
          "iopub.status.idle": "2022-10-24T19:10:16.873596Z",
          "shell.execute_reply": "2022-10-24T19:10:16.872357Z",
          "shell.execute_reply.started": "2022-10-24T19:10:16.861282Z"
        },
        "id": "5bFu0njuwsuP"
      },
      "outputs": [],
      "source": [
        "df_final=pd.concat([extract_features,target],axis=1)"
      ]
    },
    {
      "cell_type": "code",
      "execution_count": null,
      "metadata": {
        "execution": {
          "iopub.execute_input": "2022-10-24T19:10:16.888544Z",
          "iopub.status.busy": "2022-10-24T19:10:16.887891Z",
          "iopub.status.idle": "2022-10-24T19:10:16.915667Z",
          "shell.execute_reply": "2022-10-24T19:10:16.914443Z",
          "shell.execute_reply.started": "2022-10-24T19:10:16.888482Z"
        },
        "id": "PimLdrYowsuP",
        "outputId": "b500e52e-dd01-4bf9-aba0-a23165a14007"
      },
      "outputs": [
        {
          "data": {
            "text/html": [
              "<div>\n",
              "<style scoped>\n",
              "    .dataframe tbody tr th:only-of-type {\n",
              "        vertical-align: middle;\n",
              "    }\n",
              "\n",
              "    .dataframe tbody tr th {\n",
              "        vertical-align: top;\n",
              "    }\n",
              "\n",
              "    .dataframe thead th {\n",
              "        text-align: right;\n",
              "    }\n",
              "</style>\n",
              "<table border=\"1\" class=\"dataframe\">\n",
              "  <thead>\n",
              "    <tr style=\"text-align: right;\">\n",
              "      <th></th>\n",
              "      <th>0</th>\n",
              "      <th>1</th>\n",
              "      <th>2</th>\n",
              "      <th>3</th>\n",
              "      <th>4</th>\n",
              "      <th>5</th>\n",
              "      <th>6</th>\n",
              "      <th>7</th>\n",
              "      <th>8</th>\n",
              "      <th>9</th>\n",
              "      <th>...</th>\n",
              "      <th>191</th>\n",
              "      <th>192</th>\n",
              "      <th>193</th>\n",
              "      <th>194</th>\n",
              "      <th>195</th>\n",
              "      <th>196</th>\n",
              "      <th>197</th>\n",
              "      <th>198</th>\n",
              "      <th>199</th>\n",
              "      <th>Label</th>\n",
              "    </tr>\n",
              "  </thead>\n",
              "  <tbody>\n",
              "    <tr>\n",
              "      <th>0</th>\n",
              "      <td>0</td>\n",
              "      <td>0</td>\n",
              "      <td>0</td>\n",
              "      <td>0</td>\n",
              "      <td>0</td>\n",
              "      <td>0</td>\n",
              "      <td>0</td>\n",
              "      <td>0</td>\n",
              "      <td>0</td>\n",
              "      <td>0</td>\n",
              "      <td>...</td>\n",
              "      <td>9316</td>\n",
              "      <td>9499</td>\n",
              "      <td>6889</td>\n",
              "      <td>477</td>\n",
              "      <td>206</td>\n",
              "      <td>7357</td>\n",
              "      <td>23</td>\n",
              "      <td>9896</td>\n",
              "      <td>7028</td>\n",
              "      <td>1</td>\n",
              "    </tr>\n",
              "    <tr>\n",
              "      <th>1</th>\n",
              "      <td>0</td>\n",
              "      <td>0</td>\n",
              "      <td>0</td>\n",
              "      <td>0</td>\n",
              "      <td>0</td>\n",
              "      <td>0</td>\n",
              "      <td>0</td>\n",
              "      <td>0</td>\n",
              "      <td>0</td>\n",
              "      <td>0</td>\n",
              "      <td>...</td>\n",
              "      <td>5391</td>\n",
              "      <td>6373</td>\n",
              "      <td>9486</td>\n",
              "      <td>4865</td>\n",
              "      <td>3359</td>\n",
              "      <td>5796</td>\n",
              "      <td>466</td>\n",
              "      <td>770</td>\n",
              "      <td>5189</td>\n",
              "      <td>1</td>\n",
              "    </tr>\n",
              "    <tr>\n",
              "      <th>2</th>\n",
              "      <td>0</td>\n",
              "      <td>0</td>\n",
              "      <td>0</td>\n",
              "      <td>0</td>\n",
              "      <td>0</td>\n",
              "      <td>0</td>\n",
              "      <td>0</td>\n",
              "      <td>0</td>\n",
              "      <td>0</td>\n",
              "      <td>0</td>\n",
              "      <td>...</td>\n",
              "      <td>0</td>\n",
              "      <td>0</td>\n",
              "      <td>0</td>\n",
              "      <td>0</td>\n",
              "      <td>2114</td>\n",
              "      <td>9832</td>\n",
              "      <td>7920</td>\n",
              "      <td>6305</td>\n",
              "      <td>6380</td>\n",
              "      <td>0</td>\n",
              "    </tr>\n",
              "    <tr>\n",
              "      <th>3</th>\n",
              "      <td>0</td>\n",
              "      <td>0</td>\n",
              "      <td>0</td>\n",
              "      <td>0</td>\n",
              "      <td>0</td>\n",
              "      <td>0</td>\n",
              "      <td>0</td>\n",
              "      <td>0</td>\n",
              "      <td>0</td>\n",
              "      <td>0</td>\n",
              "      <td>...</td>\n",
              "      <td>0</td>\n",
              "      <td>0</td>\n",
              "      <td>0</td>\n",
              "      <td>0</td>\n",
              "      <td>6994</td>\n",
              "      <td>1831</td>\n",
              "      <td>5182</td>\n",
              "      <td>1844</td>\n",
              "      <td>2419</td>\n",
              "      <td>0</td>\n",
              "    </tr>\n",
              "    <tr>\n",
              "      <th>4</th>\n",
              "      <td>0</td>\n",
              "      <td>0</td>\n",
              "      <td>0</td>\n",
              "      <td>0</td>\n",
              "      <td>0</td>\n",
              "      <td>0</td>\n",
              "      <td>0</td>\n",
              "      <td>0</td>\n",
              "      <td>0</td>\n",
              "      <td>0</td>\n",
              "      <td>...</td>\n",
              "      <td>7295</td>\n",
              "      <td>2127</td>\n",
              "      <td>5391</td>\n",
              "      <td>5967</td>\n",
              "      <td>1337</td>\n",
              "      <td>4171</td>\n",
              "      <td>8363</td>\n",
              "      <td>8588</td>\n",
              "      <td>3514</td>\n",
              "      <td>1</td>\n",
              "    </tr>\n",
              "  </tbody>\n",
              "</table>\n",
              "<p>5 rows × 201 columns</p>\n",
              "</div>"
            ],
            "text/plain": [
              "   0  1  2  3  4  5  6  7  8  9  ...   191   192   193   194   195   196  \\\n",
              "0  0  0  0  0  0  0  0  0  0  0  ...  9316  9499  6889   477   206  7357   \n",
              "1  0  0  0  0  0  0  0  0  0  0  ...  5391  6373  9486  4865  3359  5796   \n",
              "2  0  0  0  0  0  0  0  0  0  0  ...     0     0     0     0  2114  9832   \n",
              "3  0  0  0  0  0  0  0  0  0  0  ...     0     0     0     0  6994  1831   \n",
              "4  0  0  0  0  0  0  0  0  0  0  ...  7295  2127  5391  5967  1337  4171   \n",
              "\n",
              "    197   198   199  Label  \n",
              "0    23  9896  7028      1  \n",
              "1   466   770  5189      1  \n",
              "2  7920  6305  6380      0  \n",
              "3  5182  1844  2419      0  \n",
              "4  8363  8588  3514      1  \n",
              "\n",
              "[5 rows x 201 columns]"
            ]
          },
          "execution_count": 80,
          "metadata": {},
          "output_type": "execute_result"
        }
      ],
      "source": [
        "df_final.head()"
      ]
    },
    {
      "cell_type": "markdown",
      "metadata": {
        "id": "BOn-eE0OwsuP"
      },
      "source": [
        "**13. Splitting Dependent and Independent Variables**"
      ]
    },
    {
      "cell_type": "code",
      "execution_count": null,
      "metadata": {
        "execution": {
          "iopub.execute_input": "2022-10-24T19:10:16.917975Z",
          "iopub.status.busy": "2022-10-24T19:10:16.917484Z",
          "iopub.status.idle": "2022-10-24T19:10:16.925694Z",
          "shell.execute_reply": "2022-10-24T19:10:16.924444Z",
          "shell.execute_reply.started": "2022-10-24T19:10:16.917926Z"
        },
        "id": "HsiKdY7EwsuP"
      },
      "outputs": [],
      "source": [
        "X=df_final.drop(\"Label\",axis=1)\n",
        "y=df_final[\"Label\"]"
      ]
    },
    {
      "cell_type": "markdown",
      "metadata": {
        "id": "9tSG91aPwsuP"
      },
      "source": [
        "****14.split data to train, test and Validation****"
      ]
    },
    {
      "cell_type": "code",
      "execution_count": null,
      "metadata": {
        "execution": {
          "iopub.execute_input": "2022-10-24T19:10:16.928220Z",
          "iopub.status.busy": "2022-10-24T19:10:16.927716Z",
          "iopub.status.idle": "2022-10-24T19:10:16.936425Z",
          "shell.execute_reply": "2022-10-24T19:10:16.935448Z",
          "shell.execute_reply.started": "2022-10-24T19:10:16.928172Z"
        },
        "id": "qA3IRr9NwsuP"
      },
      "outputs": [],
      "source": [
        "from sklearn.model_selection import train_test_split"
      ]
    },
    {
      "cell_type": "code",
      "execution_count": null,
      "metadata": {
        "execution": {
          "iopub.execute_input": "2022-10-24T19:10:16.938747Z",
          "iopub.status.busy": "2022-10-24T19:10:16.937992Z",
          "iopub.status.idle": "2022-10-24T19:10:16.955745Z",
          "shell.execute_reply": "2022-10-24T19:10:16.954517Z",
          "shell.execute_reply.started": "2022-10-24T19:10:16.938696Z"
        },
        "id": "QMpxB_5TwsuQ"
      },
      "outputs": [],
      "source": [
        "X_trainval,X_test,y_trainval,y_test=train_test_split(\n",
        "    X,\n",
        "    y,\n",
        "    random_state=42,\n",
        "    test_size=0.15\n",
        ")\n"
      ]
    },
    {
      "cell_type": "code",
      "execution_count": null,
      "metadata": {
        "execution": {
          "iopub.execute_input": "2022-10-24T19:10:16.958783Z",
          "iopub.status.busy": "2022-10-24T19:10:16.958421Z",
          "iopub.status.idle": "2022-10-24T19:10:16.991967Z",
          "shell.execute_reply": "2022-10-24T19:10:16.990522Z",
          "shell.execute_reply.started": "2022-10-24T19:10:16.958746Z"
        },
        "id": "x5IL59llwsuQ"
      },
      "outputs": [],
      "source": [
        "X_train,X_val,y_train,y_val=train_test_split(\n",
        "    X_trainval,\n",
        "    y_trainval,\n",
        "    random_state=42,\n",
        "    test_size=0.15\n",
        ")"
      ]
    },
    {
      "cell_type": "markdown",
      "metadata": {
        "id": "L4DWJ_KcwsuQ"
      },
      "source": [
        "****15.Building Model****"
      ]
    },
    {
      "cell_type": "code",
      "execution_count": null,
      "metadata": {
        "execution": {
          "iopub.execute_input": "2022-10-24T19:10:16.996635Z",
          "iopub.status.busy": "2022-10-24T19:10:16.996041Z",
          "iopub.status.idle": "2022-10-24T19:10:17.002522Z",
          "shell.execute_reply": "2022-10-24T19:10:17.001396Z",
          "shell.execute_reply.started": "2022-10-24T19:10:16.996574Z"
        },
        "id": "OFMvvwVswsuQ"
      },
      "outputs": [],
      "source": [
        "from tensorflow.keras.layers import LSTM\n",
        "from tensorflow.keras.layers import Dense\n",
        "from tensorflow.keras.layers import Embedding\n",
        "from tensorflow.keras.models import Sequential\n"
      ]
    },
    {
      "cell_type": "code",
      "execution_count": null,
      "metadata": {
        "execution": {
          "iopub.execute_input": "2022-10-24T19:10:17.004959Z",
          "iopub.status.busy": "2022-10-24T19:10:17.004323Z",
          "iopub.status.idle": "2022-10-24T19:10:17.046634Z",
          "shell.execute_reply": "2022-10-24T19:10:17.045551Z",
          "shell.execute_reply.started": "2022-10-24T19:10:17.004910Z"
        },
        "id": "EeSWm01YwsuQ"
      },
      "outputs": [],
      "source": [
        "model=Sequential()"
      ]
    },
    {
      "cell_type": "code",
      "execution_count": null,
      "metadata": {
        "execution": {
          "iopub.execute_input": "2022-10-24T19:10:17.049905Z",
          "iopub.status.busy": "2022-10-24T19:10:17.049491Z",
          "iopub.status.idle": "2022-10-24T19:10:17.434593Z",
          "shell.execute_reply": "2022-10-24T19:10:17.433603Z",
          "shell.execute_reply.started": "2022-10-24T19:10:17.049860Z"
        },
        "id": "Bu6S-RQiwsuR",
        "outputId": "4186dc12-d3dd-4812-a293-f10c1a5b7604"
      },
      "outputs": [
        {
          "name": "stdout",
          "output_type": "stream",
          "text": [
            "Model: \"sequential_2\"\n",
            "_________________________________________________________________\n",
            " Layer (type)                Output Shape              Param #   \n",
            "=================================================================\n",
            " embedding_1 (Embedding)     (None, 200, 100)          1000000   \n",
            "                                                                 \n",
            " lstm_1 (LSTM)               (None, 128)               117248    \n",
            "                                                                 \n",
            " dense_1 (Dense)             (None, 1)                 129       \n",
            "                                                                 \n",
            "=================================================================\n",
            "Total params: 1,117,377\n",
            "Trainable params: 1,117,377\n",
            "Non-trainable params: 0\n",
            "_________________________________________________________________\n"
          ]
        }
      ],
      "source": [
        "feature_num=100\n",
        "model.add(\n",
        "    Embedding(\n",
        "        input_dim=vocab_size,\n",
        "        output_dim=feature_num,\n",
        "        input_length=sentence_len\n",
        "    )\n",
        ")\n",
        "model.add(\n",
        "    LSTM(\n",
        "    units=128\n",
        "    )\n",
        ")\n",
        "\n",
        "model.add(\n",
        "    Dense(\n",
        "        units=1,\n",
        "        activation=\"sigmoid\"\n",
        "    )\n",
        ")\n",
        "model.summary()"
      ]
    },
    {
      "cell_type": "code",
      "execution_count": null,
      "metadata": {
        "execution": {
          "iopub.execute_input": "2022-10-24T19:10:17.438485Z",
          "iopub.status.busy": "2022-10-24T19:10:17.438169Z",
          "iopub.status.idle": "2022-10-24T19:10:17.456008Z",
          "shell.execute_reply": "2022-10-24T19:10:17.454160Z",
          "shell.execute_reply.started": "2022-10-24T19:10:17.438452Z"
        },
        "id": "btww5tuSwsuR"
      },
      "outputs": [],
      "source": [
        "from tensorflow.keras.optimizers import Adam\n",
        "model.compile(\n",
        "    optimizer=Adam(\n",
        "    learning_rate=0.001\n",
        "    ),\n",
        "    loss=\"binary_crossentropy\",\n",
        "    metrics=[\"accuracy\"]\n",
        ")"
      ]
    },
    {
      "cell_type": "markdown",
      "metadata": {
        "id": "Y_gNdoeDwsuR"
      },
      "source": [
        "****16. Model Fitting****"
      ]
    },
    {
      "cell_type": "code",
      "execution_count": null,
      "metadata": {
        "execution": {
          "iopub.execute_input": "2022-10-24T19:10:17.459013Z",
          "iopub.status.busy": "2022-10-24T19:10:17.458198Z",
          "iopub.status.idle": "2022-10-24T19:13:49.021304Z",
          "shell.execute_reply": "2022-10-24T19:13:49.020067Z",
          "shell.execute_reply.started": "2022-10-24T19:10:17.458961Z"
        },
        "id": "E3MZRqU2wsuR",
        "outputId": "10635fc9-df1a-471c-c845-7b0533eee7da"
      },
      "outputs": [
        {
          "name": "stdout",
          "output_type": "stream",
          "text": [
            "Epoch 1/10\n",
            "34/34 [==============================] - 5s 112ms/step - loss: 0.5192 - accuracy: 0.7236 - val_loss: 0.3905 - val_accuracy: 0.8272\n",
            "Epoch 2/10\n",
            "34/34 [==============================] - 3s 103ms/step - loss: 0.1767 - accuracy: 0.9453 - val_loss: 0.2096 - val_accuracy: 0.9215\n",
            "Epoch 3/10\n",
            "34/34 [==============================] - 4s 103ms/step - loss: 0.0542 - accuracy: 0.9833 - val_loss: 0.1630 - val_accuracy: 0.9476\n",
            "Epoch 4/10\n",
            "34/34 [==============================] - 3s 103ms/step - loss: 0.0266 - accuracy: 0.9926 - val_loss: 0.1653 - val_accuracy: 0.9529\n",
            "Epoch 5/10\n",
            "34/34 [==============================] - 4s 104ms/step - loss: 0.0111 - accuracy: 0.9963 - val_loss: 0.1448 - val_accuracy: 0.9581\n",
            "Epoch 6/10\n",
            "34/34 [==============================] - 3s 100ms/step - loss: 0.0077 - accuracy: 0.9981 - val_loss: 0.1757 - val_accuracy: 0.9476\n",
            "Epoch 7/10\n",
            "34/34 [==============================] - 3s 103ms/step - loss: 0.0036 - accuracy: 0.9991 - val_loss: 0.1946 - val_accuracy: 0.9476\n",
            "Epoch 8/10\n",
            "34/34 [==============================] - 3s 103ms/step - loss: 0.0021 - accuracy: 0.9991 - val_loss: 0.2019 - val_accuracy: 0.9529\n",
            "Epoch 9/10\n",
            "34/34 [==============================] - 4s 105ms/step - loss: 0.0014 - accuracy: 1.0000 - val_loss: 0.2151 - val_accuracy: 0.9529\n",
            "Epoch 10/10\n",
            "34/34 [==============================] - 4s 105ms/step - loss: 0.0019 - accuracy: 1.0000 - val_loss: 0.1733 - val_accuracy: 0.9581\n"
          ]
        }
      ],
      "source": [
        "history=model.fit(\n",
        "    X_train,\n",
        "    y_train,\n",
        "    validation_data=(\n",
        "        X_val,\n",
        "        y_val\n",
        "    ),\n",
        "    epochs=10\n",
        ")"
      ]
    },
    {
      "cell_type": "code",
      "execution_count": null,
      "metadata": {
        "execution": {
          "iopub.execute_input": "2022-10-24T19:13:49.264176Z",
          "iopub.status.busy": "2022-10-24T19:13:49.263521Z",
          "iopub.status.idle": "2022-10-24T19:13:50.795719Z",
          "shell.execute_reply": "2022-10-24T19:13:50.794739Z",
          "shell.execute_reply.started": "2022-10-24T19:13:49.264125Z"
        },
        "id": "Px7DBYcDwsuR",
        "outputId": "4e7baf63-db61-4c0b-c9e9-9343f3421f01"
      },
      "outputs": [
        {
          "name": "stdout",
          "output_type": "stream",
          "text": [
            "8/8 [==============================] - 0s 25ms/step\n"
          ]
        }
      ],
      "source": [
        "y_pred=model.predict(X_test)\n",
        "y_pred=(y_pred>0.5)"
      ]
    },
    {
      "cell_type": "code",
      "execution_count": null,
      "metadata": {
        "execution": {
          "iopub.execute_input": "2022-10-24T19:13:50.797967Z",
          "iopub.status.busy": "2022-10-24T19:13:50.797185Z",
          "iopub.status.idle": "2022-10-24T19:13:50.856554Z",
          "shell.execute_reply": "2022-10-24T19:13:50.855473Z",
          "shell.execute_reply.started": "2022-10-24T19:13:50.797917Z"
        },
        "id": "z0054uwGwsuS"
      },
      "outputs": [],
      "source": [
        "model.save('Spam_SMS_classifier.h5')"
      ]
    },
    {
      "cell_type": "markdown",
      "metadata": {
        "id": "BiCJDKTWwsuS"
      },
      "source": [
        "**17. Testing the Model**"
      ]
    },
    {
      "cell_type": "code",
      "execution_count": null,
      "metadata": {
        "execution": {
          "iopub.execute_input": "2022-10-24T19:13:50.858447Z",
          "iopub.status.busy": "2022-10-24T19:13:50.857979Z",
          "iopub.status.idle": "2022-10-24T19:13:50.863609Z",
          "shell.execute_reply": "2022-10-24T19:13:50.862543Z",
          "shell.execute_reply.started": "2022-10-24T19:13:50.858404Z"
        },
        "id": "puxmyyZLwsuS"
      },
      "outputs": [],
      "source": [
        "from sklearn.metrics import accuracy_score,confusion_matrix"
      ]
    },
    {
      "cell_type": "code",
      "execution_count": null,
      "metadata": {
        "execution": {
          "iopub.execute_input": "2022-10-24T19:13:50.865778Z",
          "iopub.status.busy": "2022-10-24T19:13:50.865169Z",
          "iopub.status.idle": "2022-10-24T19:13:50.891954Z",
          "shell.execute_reply": "2022-10-24T19:13:50.890586Z",
          "shell.execute_reply.started": "2022-10-24T19:13:50.865735Z"
        },
        "id": "UEkyA2K6wsuS",
        "outputId": "a6a1fbb9-4a97-4504-a0f5-5565ec15210a"
      },
      "outputs": [
        {
          "name": "stdout",
          "output_type": "stream",
          "text": [
            "Test Score:96.44%\n"
          ]
        }
      ],
      "source": [
        "score=accuracy_score(y_test,y_pred)\n",
        "print(\"Test Score:{:.2f}%\".format(score*100))"
      ]
    },
    {
      "cell_type": "code",
      "execution_count": null,
      "metadata": {
        "execution": {
          "iopub.execute_input": "2022-10-24T19:13:50.894590Z",
          "iopub.status.busy": "2022-10-24T19:13:50.893821Z",
          "iopub.status.idle": "2022-10-24T19:13:51.204505Z",
          "shell.execute_reply": "2022-10-24T19:13:51.203608Z",
          "shell.execute_reply.started": "2022-10-24T19:13:50.894537Z"
        },
        "id": "MxQQ9CGBwsuT",
        "outputId": "8d8f0f51-d24c-412a-cd7e-1e1cae78da05"
      },
      "outputs": [
        {
          "data": {
            "text/plain": [
              "array([[114,   4],\n",
              "       [  4, 103]], dtype=int64)"
            ]
          },
          "execution_count": 96,
          "metadata": {},
          "output_type": "execute_result"
        }
      ],
      "source": [
        "conmax=confusion_matrix(y_test,y_pred)\n",
        "conmax"
      ]
    },
    {
      "cell_type": "code",
      "execution_count": null,
      "metadata": {
        "id": "5O_sGtJCwsuT"
      },
      "outputs": [],
      "source": []
    }
  ],
  "metadata": {
    "kernelspec": {
      "display_name": "Python 3 (ipykernel)",
      "language": "python",
      "name": "python3"
    },
    "language_info": {
      "codemirror_mode": {
        "name": "ipython",
        "version": 3
      },
      "file_extension": ".py",
      "mimetype": "text/x-python",
      "name": "python",
      "nbconvert_exporter": "python",
      "pygments_lexer": "ipython3",
      "version": "3.9.12"
    },
    "colab": {
      "provenance": [],
      "collapsed_sections": []
    }
  },
  "nbformat": 4,
  "nbformat_minor": 0
}